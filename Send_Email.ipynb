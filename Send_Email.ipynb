{
 "cells": [
  {
   "cell_type": "markdown",
   "metadata": {},
   "source": [
    "# Script to send automated emails using python"
   ]
  },
  {
   "cell_type": "markdown",
   "metadata": {},
   "source": [
    "## This script allows user to send automated emails. \n",
    "The following code has been tested using Gmail acccount. For your gmail account to successfully send emails using this script, access for less secure apps should be turned on. Check using the following link: https://www.google.com/settings/security/lesssecureapps\n",
    "\n",
    "### Input :\n",
    "- Fetched from Secret file\n",
    "        sender = \"SENDER_EMAIL_ID\"\n",
    "        password = \"YOUR_EMAIL_PASSWORD\"\n",
    "    \n",
    "- Hardcoded in the script  \n",
    "        recepients = \"RECEIVER_EMAIL_ID/S\"\n",
    "        msg[\"Subject\"] = \"EMAIL_SUBJECT\"\n",
    "        body = \"EMAIL_MESSAGE_BODY\""
   ]
  },
  {
   "cell_type": "code",
   "execution_count": 1,
   "metadata": {
    "collapsed": false
   },
   "outputs": [],
   "source": [
    "import smtplib\n",
    "import io\n",
    "import json"
   ]
  },
  {
   "cell_type": "code",
   "execution_count": 2,
   "metadata": {
    "collapsed": true
   },
   "outputs": [],
   "source": [
    "# Source: https://docs.python.org/2/library/email-examples.html\n",
    "\n",
    "from email.mime.text import MIMEText\n",
    "from email.mime.multipart import MIMEMultipart"
   ]
  },
  {
   "cell_type": "code",
   "execution_count": 3,
   "metadata": {
    "collapsed": false
   },
   "outputs": [],
   "source": [
    "# Load username and password from json document\n",
    "with io.open('login_credentials.json') as cred:\n",
    "        creds = json.load(cred)\n",
    "\n",
    "# Sender's login credentials\n",
    "sender = str(creds[\"EmailID\"])\n",
    "password = str(creds[\"PWD\"])\n",
    "\n",
    "# Receiver's email id\n",
    "recipients = ['email_one@gmail.com', 'email_two@andrew.cmu.edu', 'email_three@cmu.edu']"
   ]
  },
  {
   "cell_type": "code",
   "execution_count": 4,
   "metadata": {
    "collapsed": false
   },
   "outputs": [],
   "source": [
    "# Message to send\n",
    "msg = MIMEMultipart()\n",
    "\n",
    "msg['From'] = sender\n",
    "msg['To'] = \", \".join(recipients)\n",
    "\n",
    "msg['Subject'] = 'Emissions Index Notification'\n",
    "\n",
    "body = 'This is an automated Email!'\n",
    "msg.attach(MIMEText(body, 'plain'))"
   ]
  },
  {
   "cell_type": "code",
   "execution_count": 5,
   "metadata": {
    "collapsed": false
   },
   "outputs": [
    {
     "name": "stdout",
     "output_type": "stream",
     "text": [
      "Email Sent Successfully\n"
     ]
    }
   ],
   "source": [
    "# Create connection\n",
    "server = smtplib.SMTP('smtp.gmail.com', 587)\n",
    "server.starttls()\n",
    "server.login(sender, password)\n",
    "\n",
    "# Send email\n",
    "server.sendmail(sender, recipients, msg.as_string())\n",
    "server.quit()\n",
    "\n",
    "print \"Email Sent Successfully\""
   ]
  }
 ],
 "metadata": {
  "anaconda-cloud": {},
  "kernelspec": {
   "display_name": "Python [default]",
   "language": "python",
   "name": "python2"
  },
  "language_info": {
   "codemirror_mode": {
    "name": "ipython",
    "version": 2
   },
   "file_extension": ".py",
   "mimetype": "text/x-python",
   "name": "python",
   "nbconvert_exporter": "python",
   "pygments_lexer": "ipython2",
   "version": "2.7.12"
  }
 },
 "nbformat": 4,
 "nbformat_minor": 1
}
